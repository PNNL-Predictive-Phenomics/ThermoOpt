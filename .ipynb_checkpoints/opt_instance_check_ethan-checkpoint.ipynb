version https://git-lfs.github.com/spec/v1
oid sha256:4ddfa68bb84fd2773b1a20369db02466c866c98fd9f721edbe66206c78e42a0d
size 19152
